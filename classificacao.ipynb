{
  "nbformat": 4,
  "nbformat_minor": 0,
  "metadata": {
    "colab": {
      "name": "classificacao.ipynb",
      "provenance": [],
      "authorship_tag": "ABX9TyPJ/8dq1SwJFGaXflm66LZP"
    },
    "kernelspec": {
      "name": "python3",
      "display_name": "Python 3"
    }
  },
  "cells": [
    {
      "cell_type": "code",
      "metadata": {
        "id": "CVIr8U5mMvRU"
      },
      "source": [
        "import matplotlib.pyplot as plt\n",
        "import numpy as np\n",
        "from keras.datasets import mnist\n",
        "from keras.models import Model,Sequential\n",
        "from keras.layers import Input,Dense\n",
        "from keras.utils import np_utils"
      ],
      "execution_count": 3,
      "outputs": []
    },
    {
      "cell_type": "code",
      "metadata": {
        "id": "tS3AawQuNK2n"
      },
      "source": [
        "(previsores_treinamento,classe_treinamento), (previsores_teste,classe_teste) = mnist.load_data()"
      ],
      "execution_count": null,
      "outputs": []
    },
    {
      "cell_type": "code",
      "metadata": {
        "id": "PtLzQfvLNGUC"
      },
      "source": [
        "previsores_treinamento = previsores_treinamento.astype('float32')/255\n",
        "previsores_teste = previsores_teste.astype('float32')/255\n",
        "previsores_treinamento = previsores_treinamento.reshape(len(previsores_treinamento), np.prod(previsores_treinamento.shape[1:]))\n",
        "previsores_teste = previsores_teste.reshape(len(previsores_teste), np.prod(previsores_teste.shape[1:]))"
      ],
      "execution_count": 5,
      "outputs": []
    },
    {
      "cell_type": "code",
      "metadata": {
        "id": "Rp6n5rTOdFjt"
      },
      "source": [
        "def reduzirInformacao(tamanho, previsores):\n",
        "    numeroNeuroniosEntrada = previsores[0].shape[1]\n",
        "    numeroNeuroniosSaida = previsores[0].shape[1]\n",
        "    numeroNeuroniosCamadaOculta = tamanho\n",
        "    autoencoder = Sequential()\n",
        "    autoencoder.add(Dense(units= numeroNeuroniosCamadaOculta, activation='relu', input_dim = numeroNeuroniosEntrada))\n",
        "    autoencoder.add(Dense(units= numeroNeuroniosSaida, activation = 'sigmoid'))\n",
        "    autoencoder.compile(optimizer='adam', loss='binary_crossentropy', metrics=['accuracy'])\n",
        "    autoencoder.fit(previsores[0],previsores[0], epochs=50, batch_size=256,validation_data=(previsores[1],previsores[1]))\n",
        "    \n",
        "    dimensaoOriginal = Input(shape=(numeroNeuroniosEntrada,))\n",
        "    camada_encoder = autoencoder.layers[0]\n",
        "    encoder = Model(dimensaoOriginal, camada_encoder(dimensaoOriginal))\n",
        "\n",
        "    return encoder\n"
      ],
      "execution_count": 28,
      "outputs": []
    },
    {
      "cell_type": "code",
      "metadata": {
        "id": "iskBkGIeOBpu"
      },
      "source": [
        "encoder = reduzirInformacao(32, (previsores_treinamento,previsores_teste))\n",
        "previsores_treinamento_codificados = encoder.predict(previsores_treinamento)\n",
        "previsores_teste_codificados = encoder.predict(previsores_teste)"
      ],
      "execution_count": null,
      "outputs": []
    },
    {
      "cell_type": "code",
      "metadata": {
        "id": "f5INZVgAOfZ_"
      },
      "source": [
        "classe_dummy_treinamento = np_utils.to_categorical(classe_treinamento)\n",
        "classe_dummy_teste = np_utils.to_categorical(classe_teste)"
      ],
      "execution_count": 9,
      "outputs": []
    },
    {
      "cell_type": "code",
      "metadata": {
        "id": "I-z6wRWHZxu5"
      },
      "source": [
        "def criarRedeNeuralClassificacao(previsores,classe):\n",
        "    numeroNeuroniosEntrada = previsores[0].shape[1]\n",
        "    numeroNeuroniosSaida = classe[0].shape[1]\n",
        "    numeroNeuroniosCamadaOculta = round((numeroNeuroniosEntrada+numeroNeuroniosSaida)/2)\n",
        "    c = Sequential()\n",
        "    c.add(Dense(units= numeroNeuroniosCamadaOculta, activation='relu', input_dim = numeroNeuroniosEntrada))\n",
        "    c.add(Dense(units= numeroNeuroniosCamadaOculta, activation= 'relu'))\n",
        "    c.add(Dense(units= numeroNeuroniosSaida, activation= 'softmax'))\n",
        "    c.compile(optimizer = 'adam', loss= 'categorical_crossentropy', metrics = ['accuracy'])\n",
        "    c.fit(previsores[0], classe[0], batch_size = 256, epochs = 100, validation_data = (previsores[1], classe[1]))\n",
        "    return c"
      ],
      "execution_count": 15,
      "outputs": []
    },
    {
      "cell_type": "markdown",
      "metadata": {
        "id": "-s-54lnSfcr_"
      },
      "source": [
        "Accuracy: 98%"
      ]
    },
    {
      "cell_type": "code",
      "metadata": {
        "id": "B1iq2mRmbiT_"
      },
      "source": [
        "c1 = criarRedeNeuralClassificacao((previsores_treinamento, previsores_teste),(classe_dummy_treinamento, classe_dummy_teste)) #Base normal de 32x32"
      ],
      "execution_count": null,
      "outputs": []
    },
    {
      "cell_type": "markdown",
      "metadata": {
        "id": "c5ZH15nefidf"
      },
      "source": [
        "Accuracy: 95%"
      ]
    },
    {
      "cell_type": "code",
      "metadata": {
        "id": "xH6YHPTAekPr"
      },
      "source": [
        "c2 = criarRedeNeuralClassificacao((previsores_treinamento_codificados, previsores_teste_codificados),(classe_dummy_treinamento, classe_dummy_teste)) #Base normal de 8x4"
      ],
      "execution_count": null,
      "outputs": []
    }
  ]
}